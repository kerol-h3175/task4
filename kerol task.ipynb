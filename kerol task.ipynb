{
 "cells": [
  {
   "cell_type": "code",
   "execution_count": 14,
   "id": "ddbb65c4-77d8-455f-938e-5e3a5905bfc4",
   "metadata": {},
   "outputs": [],
   "source": [
    "def is_prime(n):\n",
    "    if n <= 1:\n",
    "        return False\n",
    "    for i in range(2, int(n**0.5) + 1):\n",
    "        if n % i == 0:\n",
    "            return False\n"
   ]
  },
  {
   "cell_type": "code",
   "execution_count": 17,
   "id": "e9175161-cbba-4647-ae76-d098273286db",
   "metadata": {},
   "outputs": [
    {
     "name": "stdout",
     "output_type": "stream",
     "text": [
      "Add: 48\n",
      "Subtract: 32\n",
      "Multiply: 320\n",
      "Divide: 5.0\n"
     ]
    }
   ],
   "source": [
    "def calculator(a , b ,operation):\n",
    "    if operation ==\"add\":\n",
    "        return a+b\n",
    "    elif operation ==\"subtract\":\n",
    "        return a-b\n",
    "    elif operation ==\"multiply\":\n",
    "        return a*b\n",
    "    elif operation ==\"divide\":\n",
    "        return a/b\n",
    "    else:\n",
    "        return \"wrong\"\n",
    "a = 40\n",
    "b = 8\n",
    "\n",
    "print(\"Add:\", calculator(a, b, \"add\"))         \n",
    "print(\"Subtract:\", calculator(a, b, \"subtract\")) \n",
    "print(\"Multiply:\", calculator(a, b, \"multiply\")) \n",
    "print(\"Divide:\", calculator(a, b, \"divide\"))     \n"
   ]
  },
  {
   "cell_type": "code",
   "execution_count": null,
   "id": "b20c24cb-eb68-45c4-8b68-4113956fc45d",
   "metadata": {},
   "outputs": [],
   "source": []
  }
 ],
 "metadata": {
  "kernelspec": {
   "display_name": "Python [conda env:base] *",
   "language": "python",
   "name": "conda-base-py"
  },
  "language_info": {
   "codemirror_mode": {
    "name": "ipython",
    "version": 3
   },
   "file_extension": ".py",
   "mimetype": "text/x-python",
   "name": "python",
   "nbconvert_exporter": "python",
   "pygments_lexer": "ipython3",
   "version": "3.13.5"
  }
 },
 "nbformat": 4,
 "nbformat_minor": 5
}
